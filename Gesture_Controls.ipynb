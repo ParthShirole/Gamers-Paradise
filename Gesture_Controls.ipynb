{
 "cells": [
  {
   "cell_type": "code",
   "execution_count": null,
   "id": "fb13f83d",
   "metadata": {},
   "outputs": [],
   "source": [
    "# Import the necessary libraries\n",
    "import cv2\n",
    "import cvzone\n",
    "from cvzone.HandTrackingModule import HandDetector\n",
    "from pynput.keyboard import Controller\n",
    "\n",
    "# Capture the video and set assign values to properties of VideoCapture\n",
    "cap = cv2.VideoCapture(0)\n",
    "cap.set(3, 400)\n",
    "cap.set(4, 400)\n",
    "\n",
    "\n",
    "detector = HandDetector(detectionCon=1)\n",
    "keyboard = Controller()\n",
    "\n",
    "# Repeat the process in the loop as long as the camera is on\n",
    "while True:\n",
    "    success, img = cap.read()\n",
    "    \n",
    "# findHands takes an RGB image as input and detects the hands and the points on it in the frame\n",
    "    img = detector.findHands(img)\n",
    "    \n",
    "# findPosition returns the position of the hand along with the id\n",
    "    lmList, bboxInfo = detector.findPosition(img)\n",
    "    if lmList:\n",
    "        \n",
    "# Calculate the distance between the thumb(4) and index finger(8)\n",
    "        l, _, _ = detector.findDistance(4,8, img, draw=False)\n",
    "        \n",
    "\n",
    "# If the distance is less than 35, then release \"D\" and press \"A\"\n",
    "        if l < 35:\n",
    "            keyboard.release(\"D\")\n",
    "            keyboard.press(\"A\")\n",
    "            print(\"A\")\n",
    "            \n",
    "# If the distance is greater than or equal to 35, then release \"A\" and press \"D\"       \n",
    "        elif l >= 35:\n",
    "            keyboard.release(\"A\")\n",
    "            keyboard.press(\"D\")\n",
    "            print(\"D\")\n",
    "        \n",
    "\n",
    "\n",
    "        \n",
    "    cv2.imshow(\"output\", img)\n",
    "    cv2.waitKey(1)"
   ]
  },
  {
   "cell_type": "code",
   "execution_count": null,
   "id": "69ed860c",
   "metadata": {},
   "outputs": [],
   "source": []
  }
 ],
 "metadata": {
  "kernelspec": {
   "display_name": "Python 3 (ipykernel)",
   "language": "python",
   "name": "python3"
  },
  "language_info": {
   "codemirror_mode": {
    "name": "ipython",
    "version": 3
   },
   "file_extension": ".py",
   "mimetype": "text/x-python",
   "name": "python",
   "nbconvert_exporter": "python",
   "pygments_lexer": "ipython3",
   "version": "3.8.10"
  }
 },
 "nbformat": 4,
 "nbformat_minor": 5
}
